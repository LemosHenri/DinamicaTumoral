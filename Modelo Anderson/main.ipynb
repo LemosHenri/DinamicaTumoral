{
 "cells": [
  {
   "cell_type": "code",
   "execution_count": 1,
   "metadata": {},
   "outputs": [
    {
     "name": "stdout",
     "output_type": "stream",
     "text": [
      "Defaulting to user installation because normal site-packages is not writeable\n",
      "Requirement already satisfied: jax[cuda12] in /home/henriquewsl/.local/lib/python3.10/site-packages (0.4.33)\n",
      "Requirement already satisfied: jaxlib<=0.4.33,>=0.4.33 in /home/henriquewsl/.local/lib/python3.10/site-packages (from jax[cuda12]) (0.4.33)\n",
      "Requirement already satisfied: ml-dtypes>=0.2.0 in /home/henriquewsl/.local/lib/python3.10/site-packages (from jax[cuda12]) (0.4.0)\n",
      "Requirement already satisfied: numpy>=1.24 in /home/henriquewsl/.local/lib/python3.10/site-packages (from jax[cuda12]) (1.26.4)\n",
      "Requirement already satisfied: opt-einsum in /home/henriquewsl/.local/lib/python3.10/site-packages (from jax[cuda12]) (3.3.0)\n",
      "Requirement already satisfied: scipy>=1.10 in /home/henriquewsl/.local/lib/python3.10/site-packages (from jax[cuda12]) (1.14.0)\n",
      "Requirement already satisfied: jax-cuda12-plugin<=0.4.33,>=0.4.33 in /home/henriquewsl/.local/lib/python3.10/site-packages (from jax-cuda12-plugin[with_cuda]<=0.4.33,>=0.4.33; extra == \"cuda12\"->jax[cuda12]) (0.4.33)\n",
      "Requirement already satisfied: jax-cuda12-pjrt==0.4.33 in /home/henriquewsl/.local/lib/python3.10/site-packages (from jax-cuda12-plugin<=0.4.33,>=0.4.33->jax-cuda12-plugin[with_cuda]<=0.4.33,>=0.4.33; extra == \"cuda12\"->jax[cuda12]) (0.4.33)\n",
      "Requirement already satisfied: nvidia-cublas-cu12>=12.1.3.1 in /home/henriquewsl/.local/lib/python3.10/site-packages (from jax-cuda12-plugin[with_cuda]<=0.4.33,>=0.4.33; extra == \"cuda12\"->jax[cuda12]) (12.1.3.1)\n",
      "Requirement already satisfied: nvidia-cuda-cupti-cu12>=12.1.105 in /home/henriquewsl/.local/lib/python3.10/site-packages (from jax-cuda12-plugin[with_cuda]<=0.4.33,>=0.4.33; extra == \"cuda12\"->jax[cuda12]) (12.1.105)\n",
      "Requirement already satisfied: nvidia-cuda-nvcc-cu12>=12.1.105 in /home/henriquewsl/.local/lib/python3.10/site-packages (from jax-cuda12-plugin[with_cuda]<=0.4.33,>=0.4.33; extra == \"cuda12\"->jax[cuda12]) (12.6.68)\n",
      "Requirement already satisfied: nvidia-cuda-runtime-cu12>=12.1.105 in /home/henriquewsl/.local/lib/python3.10/site-packages (from jax-cuda12-plugin[with_cuda]<=0.4.33,>=0.4.33; extra == \"cuda12\"->jax[cuda12]) (12.1.105)\n",
      "Requirement already satisfied: nvidia-cudnn-cu12<10.0,>=9.1 in /home/henriquewsl/.local/lib/python3.10/site-packages (from jax-cuda12-plugin[with_cuda]<=0.4.33,>=0.4.33; extra == \"cuda12\"->jax[cuda12]) (9.1.0.70)\n",
      "Requirement already satisfied: nvidia-cufft-cu12>=11.0.2.54 in /home/henriquewsl/.local/lib/python3.10/site-packages (from jax-cuda12-plugin[with_cuda]<=0.4.33,>=0.4.33; extra == \"cuda12\"->jax[cuda12]) (11.0.2.54)\n",
      "Requirement already satisfied: nvidia-cusolver-cu12>=11.4.5.107 in /home/henriquewsl/.local/lib/python3.10/site-packages (from jax-cuda12-plugin[with_cuda]<=0.4.33,>=0.4.33; extra == \"cuda12\"->jax[cuda12]) (11.4.5.107)\n",
      "Requirement already satisfied: nvidia-cusparse-cu12>=12.1.0.106 in /home/henriquewsl/.local/lib/python3.10/site-packages (from jax-cuda12-plugin[with_cuda]<=0.4.33,>=0.4.33; extra == \"cuda12\"->jax[cuda12]) (12.1.0.106)\n",
      "Requirement already satisfied: nvidia-nccl-cu12>=2.18.1 in /home/henriquewsl/.local/lib/python3.10/site-packages (from jax-cuda12-plugin[with_cuda]<=0.4.33,>=0.4.33; extra == \"cuda12\"->jax[cuda12]) (2.20.5)\n",
      "Requirement already satisfied: nvidia-nvjitlink-cu12>=12.1.105 in /home/henriquewsl/.local/lib/python3.10/site-packages (from jax-cuda12-plugin[with_cuda]<=0.4.33,>=0.4.33; extra == \"cuda12\"->jax[cuda12]) (12.5.82)\n",
      "Defaulting to user installation because normal site-packages is not writeable\n",
      "Requirement already satisfied: keras in /home/henriquewsl/.local/lib/python3.10/site-packages (3.5.0)\n",
      "Requirement already satisfied: absl-py in /home/henriquewsl/.local/lib/python3.10/site-packages (from keras) (2.1.0)\n",
      "Requirement already satisfied: numpy in /home/henriquewsl/.local/lib/python3.10/site-packages (from keras) (1.26.4)\n",
      "Requirement already satisfied: rich in /home/henriquewsl/.local/lib/python3.10/site-packages (from keras) (13.8.0)\n",
      "Requirement already satisfied: namex in /home/henriquewsl/.local/lib/python3.10/site-packages (from keras) (0.0.8)\n",
      "Requirement already satisfied: h5py in /home/henriquewsl/.local/lib/python3.10/site-packages (from keras) (3.11.0)\n",
      "Requirement already satisfied: optree in /home/henriquewsl/.local/lib/python3.10/site-packages (from keras) (0.12.1)\n",
      "Requirement already satisfied: ml-dtypes in /home/henriquewsl/.local/lib/python3.10/site-packages (from keras) (0.4.0)\n",
      "Requirement already satisfied: packaging in /home/henriquewsl/.local/lib/python3.10/site-packages (from keras) (24.1)\n",
      "Requirement already satisfied: typing-extensions>=4.5.0 in /home/henriquewsl/.local/lib/python3.10/site-packages (from optree->keras) (4.12.2)\n",
      "Requirement already satisfied: markdown-it-py>=2.2.0 in /home/henriquewsl/.local/lib/python3.10/site-packages (from rich->keras) (3.0.0)\n",
      "Requirement already satisfied: pygments<3.0.0,>=2.13.0 in /home/henriquewsl/.local/lib/python3.10/site-packages (from rich->keras) (2.18.0)\n",
      "Requirement already satisfied: mdurl~=0.1 in /home/henriquewsl/.local/lib/python3.10/site-packages (from markdown-it-py>=2.2.0->rich->keras) (0.1.2)\n"
     ]
    }
   ],
   "source": [
    "!pip install -U \"jax[cuda12]\"\n",
    "!pip install --upgrade keras"
   ]
  },
  {
   "cell_type": "code",
   "execution_count": 2,
   "metadata": {},
   "outputs": [
    {
     "name": "stderr",
     "output_type": "stream",
     "text": [
      "2024-09-30 20:44:19.979831: E external/local_xla/xla/stream_executor/cuda/cuda_fft.cc:485] Unable to register cuFFT factory: Attempting to register factory for plugin cuFFT when one has already been registered\n",
      "2024-09-30 20:44:19.997699: E external/local_xla/xla/stream_executor/cuda/cuda_dnn.cc:8454] Unable to register cuDNN factory: Attempting to register factory for plugin cuDNN when one has already been registered\n",
      "2024-09-30 20:44:20.002479: E external/local_xla/xla/stream_executor/cuda/cuda_blas.cc:1452] Unable to register cuBLAS factory: Attempting to register factory for plugin cuBLAS when one has already been registered\n",
      "2024-09-30 20:44:20.015070: I tensorflow/core/platform/cpu_feature_guard.cc:210] This TensorFlow binary is optimized to use available CPU instructions in performance-critical operations.\n",
      "To enable the following instructions: AVX2 FMA, in other operations, rebuild TensorFlow with the appropriate compiler flags.\n",
      "2024-09-30 20:44:20.689366: W tensorflow/compiler/tf2tensorrt/utils/py_utils.cc:38] TF-TRT Warning: Could not find TensorRT\n"
     ]
    }
   ],
   "source": [
    "import keras"
   ]
  },
  {
   "cell_type": "code",
   "execution_count": 3,
   "metadata": {},
   "outputs": [
    {
     "name": "stderr",
     "output_type": "stream",
     "text": [
      "WARNING: All log messages before absl::InitializeLog() is called are written to STDERR\n",
      "I0000 00:00:1727739861.853291   18489 cuda_executor.cc:1001] could not open file to read NUMA node: /sys/bus/pci/devices/0000:09:00.0/numa_node\n",
      "Your kernel may have been built without NUMA support.\n",
      "2024-09-30 20:44:21.879834: W tensorflow/core/common_runtime/gpu/gpu_device.cc:2343] Cannot dlopen some GPU libraries. Please make sure the missing libraries mentioned above are installed properly if you would like to use GPU. Follow the guide at https://www.tensorflow.org/install/gpu for how to download and setup the required libraries for your platform.\n",
      "Skipping registering GPU devices...\n"
     ]
    }
   ],
   "source": [
    "class Model(keras.Model):\n",
    "\n",
    "    def __init__(self):\n",
    "\n",
    "        super().__init__()\n",
    "        self.dense1 = keras.layers.Dense(1, activation=\"relu\")\n",
    "        self.dense1 = keras.layers.Dense(32, activation=\"relu\")\n",
    "        self.dense2 = keras.layers.Dense(2, activation=\"relu\")\n",
    "\n",
    "    def call(self, input):\n",
    "        x = self.dense1(input)\n",
    "        x = self.dense2(x)\n",
    "        return self.dense3(x)\n",
    "\n",
    "model = Model()\n",
    "\n",
    "model.compile(\n",
    "    optimizer=keras.optimizers.Adam(learning_rate=1e-3),\n",
    "    loss=keras.losses.MeanSquaredError(),\n",
    ")"
   ]
  },
  {
   "cell_type": "code",
   "execution_count": null,
   "metadata": {},
   "outputs": [],
   "source": []
  }
 ],
 "metadata": {
  "kernelspec": {
   "display_name": "Python 3",
   "language": "python",
   "name": "python3"
  },
  "language_info": {
   "codemirror_mode": {
    "name": "ipython",
    "version": 3
   },
   "file_extension": ".py",
   "mimetype": "text/x-python",
   "name": "python",
   "nbconvert_exporter": "python",
   "pygments_lexer": "ipython3",
   "version": "3.10.12"
  }
 },
 "nbformat": 4,
 "nbformat_minor": 2
}
