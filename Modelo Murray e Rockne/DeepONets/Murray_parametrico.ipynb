{
 "cells": [
  {
   "cell_type": "code",
   "execution_count": 1,
   "metadata": {},
   "outputs": [],
   "source": [
    "import jax\n",
    "import jax.numpy as jnp\n",
    "import jax.random as jr\n",
    "import equinox as eqx \n",
    "import optax\n",
    "import matplotlib.pyplot as plt\n",
    "\n",
    "from gstools import SRF, Gaussian\n",
    "from gstools.random import MasterRNG\n",
    "from utils_fdm import *"
   ]
  },
  {
   "cell_type": "code",
   "execution_count": null,
   "metadata": {},
   "outputs": [],
   "source": [
    "def Matrix(dose: float, apply: bool, params: dict, dx: float, dt: float, size: int):\n",
    "\n",
    "    LAMBDA = (params['D'] * dt) / dx**2\n",
    "    GAMMA_1 = 1 + (R(dose, apply, params) * dt) / 2 + LAMBDA \n",
    "    GAMMA_2 = 1 - (R(dose, apply, params) * dt) / 2 - LAMBDA \n",
    "\n",
    "    A = np.zeros((size, size))\n",
    "    B = np.zeros((size, size))\n",
    "\n",
    "    for i in range(1, size-1):\n",
    "        A[i,i] = GAMMA_1\n",
    "        A[i,i+1] = -LAMBDA / 2\n",
    "        A[i,i-1] = -LAMBDA / 2\n",
    "\n",
    "        B[i,i]  = GAMMA_2\n",
    "        B[i,i+1] = LAMBDA / 2\n",
    "        B[i,i-1] = LAMBDA / 2\n",
    "\n",
    "    A[0, 0] = - 3 / (4 * dx)\n",
    "    A[0, 1] = 1 / dx\n",
    "    A[0, 2] = -1 / (4 * dx)\n",
    "\n",
    "    A[-1, -1] = 3 / (4 * dx)\n",
    "    A[-1, -2] = -1 / dx\n",
    "    A[-1, -3] = 1 / (4 * dx)\n",
    "\n",
    "    B[0, 0] = 3 / (4 * dx)\n",
    "    B[0, 1] = -1 / dx\n",
    "    B[0, 2] = 1 / (4 * dx)\n",
    "\n",
    "    B[-1, -1] = -3 / (4 * dx)\n",
    "    B[-1, -2] = 1 / dx\n",
    "    B[-1, -3] = -1 / (4 * dx)\n",
    "\n",
    "    return A, B"
   ]
  }
 ],
 "metadata": {
  "kernelspec": {
   "display_name": "Python 3",
   "language": "python",
   "name": "python3"
  },
  "language_info": {
   "codemirror_mode": {
    "name": "ipython",
    "version": 3
   },
   "file_extension": ".py",
   "mimetype": "text/x-python",
   "name": "python",
   "nbconvert_exporter": "python",
   "pygments_lexer": "ipython3",
   "version": "3.10.12"
  }
 },
 "nbformat": 4,
 "nbformat_minor": 2
}
